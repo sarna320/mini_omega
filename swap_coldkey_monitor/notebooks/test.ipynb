{
 "cells": [
  {
   "cell_type": "code",
   "execution_count": 6,
   "id": "4adc3c5e",
   "metadata": {},
   "outputs": [],
   "source": [
    "from bittensor.core.async_subtensor import get_async_subtensor, AsyncSubtensor\n",
    "\n",
    "s = await get_async_subtensor(\"archive\")"
   ]
  },
  {
   "cell_type": "code",
   "execution_count": 23,
   "id": "9bf83d24",
   "metadata": {},
   "outputs": [
    {
     "name": "stderr",
     "output_type": "stream",
     "text": [
      "Scanning blocks:   0%|          | 13/6342041 [01:39<13543:54:10,  7.69s/it]\n",
      "<frozen genericpath>:89: RuntimeWarning: coroutine 'main' was never awaited\n",
      "RuntimeWarning: Enable tracemalloc to get the object allocation traceback\n"
     ]
    },
    {
     "ename": "CancelledError",
     "evalue": "",
     "output_type": "error",
     "traceback": [
      "\u001b[31m---------------------------------------------------------------------------\u001b[39m",
      "\u001b[31mCancelledError\u001b[39m                            Traceback (most recent call last)",
      "\u001b[36mCell\u001b[39m\u001b[36m \u001b[39m\u001b[32mIn[23]\u001b[39m\u001b[32m, line 7\u001b[39m\n\u001b[32m      4\u001b[39m blocks = \u001b[38;5;28mrange\u001b[39m(head, \u001b[32m0\u001b[39m, -\u001b[32m1\u001b[39m)\n\u001b[32m      6\u001b[39m \u001b[38;5;28;01mfor\u001b[39;00m block \u001b[38;5;129;01min\u001b[39;00m tqdm(blocks, desc=\u001b[33m\"\u001b[39m\u001b[33mScanning blocks\u001b[39m\u001b[33m\"\u001b[39m):\n\u001b[32m----> \u001b[39m\u001b[32m7\u001b[39m     extrinsics = \u001b[38;5;28;01mawait\u001b[39;00m s.substrate.get_extrinsics(block_number=block)\n\u001b[32m      8\u001b[39m     \u001b[38;5;28;01mfor\u001b[39;00m ext \u001b[38;5;129;01min\u001b[39;00m extrinsics:\n\u001b[32m      9\u001b[39m         call_function = ext.\u001b[34m__dict__\u001b[39m[\u001b[33m\"\u001b[39m\u001b[33mvalue_serialized\u001b[39m\u001b[33m\"\u001b[39m][\u001b[33m\"\u001b[39m\u001b[33mcall\u001b[39m\u001b[33m\"\u001b[39m][\u001b[33m\"\u001b[39m\u001b[33mcall_function\u001b[39m\u001b[33m\"\u001b[39m]\n",
      "\u001b[36mFile \u001b[39m\u001b[32m~/projects/mini_omega/swap_coldkey_monitor/.venv/lib/python3.12/site-packages/async_substrate_interface/async_substrate.py:2020\u001b[39m, in \u001b[36mAsyncSubstrateInterface.get_extrinsics\u001b[39m\u001b[34m(self, block_hash, block_number)\u001b[39m\n\u001b[32m   2007\u001b[39m \u001b[38;5;28;01masync\u001b[39;00m \u001b[38;5;28;01mdef\u001b[39;00m\u001b[38;5;250m \u001b[39m\u001b[34mget_extrinsics\u001b[39m(\n\u001b[32m   2008\u001b[39m     \u001b[38;5;28mself\u001b[39m, block_hash: Optional[\u001b[38;5;28mstr\u001b[39m] = \u001b[38;5;28;01mNone\u001b[39;00m, block_number: Optional[\u001b[38;5;28mint\u001b[39m] = \u001b[38;5;28;01mNone\u001b[39;00m\n\u001b[32m   2009\u001b[39m ) -> Optional[\u001b[38;5;28mlist\u001b[39m[\u001b[33m\"\u001b[39m\u001b[33mAsyncExtrinsicReceipt\u001b[39m\u001b[33m\"\u001b[39m]]:\n\u001b[32m   2010\u001b[39m \u001b[38;5;250m    \u001b[39m\u001b[33;03m\"\"\"\u001b[39;00m\n\u001b[32m   2011\u001b[39m \u001b[33;03m    Return all extrinsics for given block_hash or block_number\u001b[39;00m\n\u001b[32m   2012\u001b[39m \n\u001b[32m   (...)\u001b[39m\u001b[32m   2018\u001b[39m \u001b[33;03m        ExtrinsicReceipts of the extrinsics for the block, if any.\u001b[39;00m\n\u001b[32m   2019\u001b[39m \u001b[33;03m    \"\"\"\u001b[39;00m\n\u001b[32m-> \u001b[39m\u001b[32m2020\u001b[39m     block = \u001b[38;5;28;01mawait\u001b[39;00m \u001b[38;5;28mself\u001b[39m.get_block(block_hash=block_hash, block_number=block_number)\n\u001b[32m   2021\u001b[39m     \u001b[38;5;28;01mif\u001b[39;00m block:\n\u001b[32m   2022\u001b[39m         \u001b[38;5;28;01mreturn\u001b[39;00m block[\u001b[33m\"\u001b[39m\u001b[33mextrinsics\u001b[39m\u001b[33m\"\u001b[39m]\n",
      "\u001b[36mFile \u001b[39m\u001b[32m~/projects/mini_omega/swap_coldkey_monitor/.venv/lib/python3.12/site-packages/async_substrate_interface/async_substrate.py:1838\u001b[39m, in \u001b[36mAsyncSubstrateInterface.get_block\u001b[39m\u001b[34m(self, block_hash, block_number, ignore_decoding_errors, include_author, finalized_only)\u001b[39m\n\u001b[32m   1835\u001b[39m     \u001b[38;5;28;01mraise\u001b[39;00m \u001b[38;5;167;01mValueError\u001b[39;00m(\u001b[33m\"\u001b[39m\u001b[33mEither block_hash or block_number should be set\u001b[39m\u001b[33m\"\u001b[39m)\n\u001b[32m   1837\u001b[39m \u001b[38;5;28;01mif\u001b[39;00m block_number \u001b[38;5;129;01mis\u001b[39;00m \u001b[38;5;129;01mnot\u001b[39;00m \u001b[38;5;28;01mNone\u001b[39;00m:\n\u001b[32m-> \u001b[39m\u001b[32m1838\u001b[39m     block_hash = \u001b[38;5;28;01mawait\u001b[39;00m \u001b[38;5;28mself\u001b[39m.get_block_hash(block_number)\n\u001b[32m   1840\u001b[39m     \u001b[38;5;28;01mif\u001b[39;00m block_hash \u001b[38;5;129;01mis\u001b[39;00m \u001b[38;5;28;01mNone\u001b[39;00m:\n\u001b[32m   1841\u001b[39m         \u001b[38;5;28;01mreturn\u001b[39;00m\n",
      "\u001b[36mFile \u001b[39m\u001b[32m~/projects/mini_omega/swap_coldkey_monitor/.venv/lib/python3.12/site-packages/async_substrate_interface/utils/cache.py:249\u001b[39m, in \u001b[36mCachedFetcher.__call__\u001b[39m\u001b[34m(self, *args, **kwargs)\u001b[39m\n\u001b[32m    246\u001b[39m \u001b[38;5;28mself\u001b[39m._inflight[key] = future\n\u001b[32m    248\u001b[39m \u001b[38;5;28;01mtry\u001b[39;00m:\n\u001b[32m--> \u001b[39m\u001b[32m249\u001b[39m     result = \u001b[38;5;28;01mawait\u001b[39;00m \u001b[38;5;28mself\u001b[39m._method(*args, **kwargs)\n\u001b[32m    250\u001b[39m     \u001b[38;5;28mself\u001b[39m._cache.set(key, result)\n\u001b[32m    251\u001b[39m     future.set_result(result)\n",
      "\u001b[36mFile \u001b[39m\u001b[32m~/projects/mini_omega/swap_coldkey_monitor/.venv/lib/python3.12/site-packages/async_substrate_interface/async_substrate.py:2507\u001b[39m, in \u001b[36mAsyncSubstrateInterface.get_block_hash\u001b[39m\u001b[34m(self, block_id)\u001b[39m\n\u001b[32m   2497\u001b[39m \u001b[38;5;129m@cached_fetcher\u001b[39m(max_size=\u001b[32m512\u001b[39m)\n\u001b[32m   2498\u001b[39m \u001b[38;5;28;01masync\u001b[39;00m \u001b[38;5;28;01mdef\u001b[39;00m\u001b[38;5;250m \u001b[39m\u001b[34mget_block_hash\u001b[39m(\u001b[38;5;28mself\u001b[39m, block_id: \u001b[38;5;28mint\u001b[39m) -> \u001b[38;5;28mstr\u001b[39m:\n\u001b[32m   2499\u001b[39m \u001b[38;5;250m    \u001b[39m\u001b[33;03m\"\"\"\u001b[39;00m\n\u001b[32m   2500\u001b[39m \u001b[33;03m    Retrieves the hash of the specified block number\u001b[39;00m\n\u001b[32m   2501\u001b[39m \u001b[33;03m    Args:\u001b[39;00m\n\u001b[32m   (...)\u001b[39m\u001b[32m   2505\u001b[39m \u001b[33;03m        Hash of the block\u001b[39;00m\n\u001b[32m   2506\u001b[39m \u001b[33;03m    \"\"\"\u001b[39;00m\n\u001b[32m-> \u001b[39m\u001b[32m2507\u001b[39m     \u001b[38;5;28;01mreturn\u001b[39;00m \u001b[38;5;28;01mawait\u001b[39;00m \u001b[38;5;28mself\u001b[39m._get_block_hash(block_id)\n",
      "\u001b[36mFile \u001b[39m\u001b[32m~/projects/mini_omega/swap_coldkey_monitor/.venv/lib/python3.12/site-packages/async_substrate_interface/async_substrate.py:2510\u001b[39m, in \u001b[36mAsyncSubstrateInterface._get_block_hash\u001b[39m\u001b[34m(self, block_id)\u001b[39m\n\u001b[32m   2509\u001b[39m \u001b[38;5;28;01masync\u001b[39;00m \u001b[38;5;28;01mdef\u001b[39;00m\u001b[38;5;250m \u001b[39m\u001b[34m_get_block_hash\u001b[39m(\u001b[38;5;28mself\u001b[39m, block_id: \u001b[38;5;28mint\u001b[39m) -> \u001b[38;5;28mstr\u001b[39m:\n\u001b[32m-> \u001b[39m\u001b[32m2510\u001b[39m     \u001b[38;5;28;01mreturn\u001b[39;00m (\u001b[38;5;28;01mawait\u001b[39;00m \u001b[38;5;28mself\u001b[39m.rpc_request(\u001b[33m\"\u001b[39m\u001b[33mchain_getBlockHash\u001b[39m\u001b[33m\"\u001b[39m, [block_id]))[\u001b[33m\"\u001b[39m\u001b[33mresult\u001b[39m\u001b[33m\"\u001b[39m]\n",
      "\u001b[36mFile \u001b[39m\u001b[32m~/projects/mini_omega/swap_coldkey_monitor/.venv/lib/python3.12/site-packages/async_substrate_interface/async_substrate.py:2465\u001b[39m, in \u001b[36mAsyncSubstrateInterface.rpc_request\u001b[39m\u001b[34m(self, method, params, result_handler, block_hash, reuse_block_hash, runtime)\u001b[39m\n\u001b[32m   2457\u001b[39m payload_id = \u001b[33mf\u001b[39m\u001b[33m\"\u001b[39m\u001b[38;5;132;01m{\u001b[39;00mmethod\u001b[38;5;132;01m}\u001b[39;00m\u001b[38;5;132;01m{\u001b[39;00mrandom.randint(\u001b[32m0\u001b[39m,\u001b[38;5;250m \u001b[39m\u001b[32m7000\u001b[39m)\u001b[38;5;132;01m}\u001b[39;00m\u001b[33m\"\u001b[39m\n\u001b[32m   2458\u001b[39m payloads = [\n\u001b[32m   2459\u001b[39m     \u001b[38;5;28mself\u001b[39m.make_payload(\n\u001b[32m   2460\u001b[39m         payload_id,\n\u001b[32m   (...)\u001b[39m\u001b[32m   2463\u001b[39m     )\n\u001b[32m   2464\u001b[39m ]\n\u001b[32m-> \u001b[39m\u001b[32m2465\u001b[39m result = \u001b[38;5;28;01mawait\u001b[39;00m \u001b[38;5;28mself\u001b[39m._make_rpc_request(\n\u001b[32m   2466\u001b[39m     payloads, result_handler=result_handler, runtime=runtime\n\u001b[32m   2467\u001b[39m )\n\u001b[32m   2468\u001b[39m \u001b[38;5;28;01mif\u001b[39;00m \u001b[33m\"\u001b[39m\u001b[33merror\u001b[39m\u001b[33m\"\u001b[39m \u001b[38;5;129;01min\u001b[39;00m result[payload_id][\u001b[32m0\u001b[39m]:\n\u001b[32m   2469\u001b[39m     \u001b[38;5;28;01mif\u001b[39;00m \u001b[33m\"\u001b[39m\u001b[33mFailed to get runtime version\u001b[39m\u001b[33m\"\u001b[39m \u001b[38;5;129;01min\u001b[39;00m (\n\u001b[32m   2470\u001b[39m         err_msg := result[payload_id][\u001b[32m0\u001b[39m][\u001b[33m\"\u001b[39m\u001b[33merror\u001b[39m\u001b[33m\"\u001b[39m][\u001b[33m\"\u001b[39m\u001b[33mmessage\u001b[39m\u001b[33m\"\u001b[39m]\n\u001b[32m   2471\u001b[39m     ):\n",
      "\u001b[36mFile \u001b[39m\u001b[32m~/projects/mini_omega/swap_coldkey_monitor/.venv/lib/python3.12/site-packages/async_substrate_interface/async_substrate.py:2376\u001b[39m, in \u001b[36mAsyncSubstrateInterface._make_rpc_request\u001b[39m\u001b[34m(self, payloads, value_scale_type, storage_item, result_handler, attempt, runtime, force_legacy_decode)\u001b[39m\n\u001b[32m   2371\u001b[39m \u001b[38;5;28;01mfor\u001b[39;00m item_id \u001b[38;5;129;01min\u001b[39;00m request_manager.unresponded():\n\u001b[32m   2372\u001b[39m     \u001b[38;5;28;01mif\u001b[39;00m (\n\u001b[32m   2373\u001b[39m         item_id \u001b[38;5;129;01mnot\u001b[39;00m \u001b[38;5;129;01min\u001b[39;00m request_manager.responses\n\u001b[32m   2374\u001b[39m         \u001b[38;5;129;01mor\u001b[39;00m asyncio.iscoroutinefunction(result_handler)\n\u001b[32m   2375\u001b[39m     ):\n\u001b[32m-> \u001b[39m\u001b[32m2376\u001b[39m         \u001b[38;5;28;01mif\u001b[39;00m response := \u001b[38;5;28;01mawait\u001b[39;00m ws.retrieve(item_id):\n\u001b[32m   2377\u001b[39m             \u001b[38;5;28;01mif\u001b[39;00m (\n\u001b[32m   2378\u001b[39m                 asyncio.iscoroutinefunction(result_handler)\n\u001b[32m   2379\u001b[39m                 \u001b[38;5;129;01mand\u001b[39;00m \u001b[38;5;129;01mnot\u001b[39;00m subscription_added\n\u001b[32m   2380\u001b[39m             ):\n\u001b[32m   2381\u001b[39m                 \u001b[38;5;66;03m# handles subscriptions, overwrites the previous mapping of {item_id : payload_id}\u001b[39;00m\n\u001b[32m   2382\u001b[39m                 \u001b[38;5;66;03m# with {subscription_id : payload_id}\u001b[39;00m\n\u001b[32m   2383\u001b[39m                 \u001b[38;5;28;01mtry\u001b[39;00m:\n",
      "\u001b[36mFile \u001b[39m\u001b[32m~/projects/mini_omega/swap_coldkey_monitor/.venv/lib/python3.12/site-packages/async_substrate_interface/async_substrate.py:828\u001b[39m, in \u001b[36mWebsocket.retrieve\u001b[39m\u001b[34m(self, item_id)\u001b[39m\n\u001b[32m    826\u001b[39m     \u001b[38;5;28;01mif\u001b[39;00m \u001b[38;5;28misinstance\u001b[39m(e := \u001b[38;5;28mself\u001b[39m._send_recv_task.result(), \u001b[38;5;167;01mException\u001b[39;00m):\n\u001b[32m    827\u001b[39m         \u001b[38;5;28;01mraise\u001b[39;00m e\n\u001b[32m--> \u001b[39m\u001b[32m828\u001b[39m \u001b[38;5;28;01mawait\u001b[39;00m asyncio.sleep(\u001b[32m0.1\u001b[39m)\n\u001b[32m    829\u001b[39m \u001b[38;5;28;01mreturn\u001b[39;00m \u001b[38;5;28;01mNone\u001b[39;00m\n",
      "\u001b[36mFile \u001b[39m\u001b[32m/usr/lib/python3.12/asyncio/tasks.py:665\u001b[39m, in \u001b[36msleep\u001b[39m\u001b[34m(delay, result)\u001b[39m\n\u001b[32m    661\u001b[39m h = loop.call_later(delay,\n\u001b[32m    662\u001b[39m                     futures._set_result_unless_cancelled,\n\u001b[32m    663\u001b[39m                     future, result)\n\u001b[32m    664\u001b[39m \u001b[38;5;28;01mtry\u001b[39;00m:\n\u001b[32m--> \u001b[39m\u001b[32m665\u001b[39m     \u001b[38;5;28;01mreturn\u001b[39;00m \u001b[38;5;28;01mawait\u001b[39;00m future\n\u001b[32m    666\u001b[39m \u001b[38;5;28;01mfinally\u001b[39;00m:\n\u001b[32m    667\u001b[39m     h.cancel()\n",
      "\u001b[31mCancelledError\u001b[39m: "
     ]
    }
   ],
   "source": [
    "from tqdm import tqdm\n",
    "\n",
    "head = await s.get_current_block()\n",
    "blocks = range(head, 0, -1)\n",
    "\n",
    "for block in tqdm(blocks, desc=\"Scanning blocks\"):\n",
    "    extrinsics = await s.substrate.get_extrinsics(block_number=block)\n",
    "    for ext in extrinsics:\n",
    "        call_function = ext.__dict__[\"value_serialized\"][\"call\"][\"call_function\"]\n",
    "        if call_function == \"schedule_swap_coldkey\":\n",
    "            print(block)\n",
    "            print(ext)\n",
    "            break"
   ]
  },
  {
   "cell_type": "code",
   "execution_count": 4,
   "id": "d85634ae",
   "metadata": {},
   "outputs": [],
   "source": [
    "all_s = await s.all_subnets()"
   ]
  },
  {
   "cell_type": "code",
   "execution_count": 10,
   "id": "afc3f0b4",
   "metadata": {},
   "outputs": [
    {
     "data": {
      "text/plain": [
       "DynamicInfo(netuid=0, owner_hotkey='5C4hrfjw9DjXZTzV3MwzrrAr9P1MJhSrvWGWqi1eSuyUpnhM', owner_coldkey='5C4hrfjw9DjXZTzV3MwzrrAr9P1MJhSrvWGWqi1eSuyUpnhM', subnet_name='root', symbol='Τ', tempo=100, last_step=4919910, blocks_since_last_step=1421381, emission=τ0.000000000, alpha_in=τ449,400.112573830, alpha_out=τ5,601,213.245253731, tao_in=τ6,095,627.465499507, price=τ1.000000000, k=2739375669203608490272366101810, is_dynamic=False, alpha_out_emission=τ0.000000000, alpha_in_emission=τ0.000000000, tao_in_emission=τ0.000000000, pending_alpha_emission=τ0.000000000, pending_root_emission=τ0.000000000, network_registered_at=0, subnet_volume=τ23,573,638.696552988, subnet_identity=None, moving_price=0.0)"
      ]
     },
     "execution_count": 10,
     "metadata": {},
     "output_type": "execute_result"
    }
   ],
   "source": [
    "all_s[0]"
   ]
  },
  {
   "cell_type": "code",
   "execution_count": 1,
   "id": "a52a49b4",
   "metadata": {},
   "outputs": [],
   "source": [
    "from aiokafka import AIOKafkaProducer\n",
    "from aiokafka.errors import KafkaError\n",
    "import os\n",
    "import json\n",
    "import time\n",
    "import asyncio\n",
    "import websockets\n",
    "import bittensor as bt\n",
    "from typing import Optional, List, Any, Dict\n",
    "\n",
    "\n",
    "class KafkaProducerManager:\n",
    "    \"\"\"\n",
    "    Thin wrapper around AIOKafkaProducer with JSON sending helpers and retries.\n",
    "    \"\"\"\n",
    "\n",
    "    def __init__(\n",
    "        self,\n",
    "        bootstrap_servers: str,\n",
    "        topic: str,\n",
    "        client_id: str = \"swap-coldkey-monitor\",\n",
    "    ):\n",
    "        self.bootstrap_servers = bootstrap_servers\n",
    "        self.topic = topic\n",
    "        self.client_id = client_id\n",
    "        self._producer: Optional[AIOKafkaProducer] = None\n",
    "\n",
    "    async def start(self):\n",
    "        if self._producer is None:\n",
    "            self._producer = AIOKafkaProducer(\n",
    "                bootstrap_servers=self.bootstrap_servers,\n",
    "                client_id=self.client_id,\n",
    "                linger_ms=20,  # small batching without much latency\n",
    "                acks=\"all\",  # strongest durability for a single-node dev broker\n",
    "                max_request_size=1024 * 1024,\n",
    "                value_serializer=lambda v: json.dumps(\n",
    "                    v, separators=(\",\", \":\"), ensure_ascii=False\n",
    "                ).encode(\"utf-8\"),\n",
    "            )\n",
    "        await self._producer.start()\n",
    "        bt.logging.info(\n",
    "            f\"✅ Kafka producer connected to {self.bootstrap_servers} (topic={self.topic})\"\n",
    "        )\n",
    "\n",
    "    async def stop(self):\n",
    "        if self._producer is not None:\n",
    "            try:\n",
    "                await self._producer.stop()\n",
    "            finally:\n",
    "                self._producer = None\n",
    "                bt.logging.info(\"🛑 Kafka producer stopped\")\n",
    "\n",
    "    async def send_json(\n",
    "        self, payload: Dict[str, Any], key: Optional[str] = None, retries: int = 3\n",
    "    ):\n",
    "        \"\"\"\n",
    "        Send a JSON-serializable payload to Kafka with basic retry.\n",
    "        \"\"\"\n",
    "        if self._producer is None:\n",
    "            raise RuntimeError(\"Producer not started\")\n",
    "\n",
    "        attempt = 0\n",
    "        last_err: Optional[Exception] = None\n",
    "        while attempt <= retries:\n",
    "            try:\n",
    "                await self._producer.send_and_wait(\n",
    "                    self.topic,\n",
    "                    value=payload,\n",
    "                    key=(key.encode(\"utf-8\") if key else None),\n",
    "                )\n",
    "                return\n",
    "            except KafkaError as e:\n",
    "                last_err = e\n",
    "                backoff = min(0.5 * (2**attempt), 5.0)\n",
    "                bt.logging.warning(\n",
    "                    f\"⚠️ Kafka send failed (attempt {attempt+1}/{retries+1}): {e}. Retrying in {backoff:.1f}s\"\n",
    "                )\n",
    "                await asyncio.sleep(backoff)\n",
    "                attempt += 1\n",
    "        # If we get here, all retries failed\n",
    "        bt.logging.error(\"❌ Kafka send permanently failed\", exc_info=last_err)\n",
    "    \n"
   ]
  },
  {
   "cell_type": "code",
   "execution_count": 3,
   "id": "7451a223",
   "metadata": {},
   "outputs": [],
   "source": [
    "KAFKA_BOOTSTRAP = os.getenv(\"KAFKA_BOOTSTRAP_SERVERS\", \"localhost:9093\")\n",
    "KAFKA_TOPIC = os.getenv(\"KAFKA_TOPIC\", \"extrinsics.swap_coldkey\")\n",
    "producer = KafkaProducerManager(\n",
    "    bootstrap_servers=KAFKA_BOOTSTRAP,\n",
    "    topic=KAFKA_TOPIC,\n",
    "    client_id=\"swap-coldkey-monitor\",\n",
    ")\n",
    "await producer.start()"
   ]
  },
  {
   "cell_type": "code",
   "execution_count": 5,
   "id": "e060c256",
   "metadata": {},
   "outputs": [],
   "source": [
    "await producer.send_json({\"x\": 23, \"y\": 1})"
   ]
  },
  {
   "cell_type": "code",
   "execution_count": null,
   "id": "20e5648f",
   "metadata": {},
   "outputs": [],
   "source": []
  }
 ],
 "metadata": {
  "kernelspec": {
   "display_name": ".venv (3.12.3)",
   "language": "python",
   "name": "python3"
  },
  "language_info": {
   "codemirror_mode": {
    "name": "ipython",
    "version": 3
   },
   "file_extension": ".py",
   "mimetype": "text/x-python",
   "name": "python",
   "nbconvert_exporter": "python",
   "pygments_lexer": "ipython3",
   "version": "3.12.3"
  }
 },
 "nbformat": 4,
 "nbformat_minor": 5
}
