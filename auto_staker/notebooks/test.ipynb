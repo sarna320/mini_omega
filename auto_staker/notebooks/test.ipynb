{
 "cells": [
  {
   "cell_type": "code",
   "execution_count": 1,
   "id": "c507451c",
   "metadata": {},
   "outputs": [],
   "source": [
    "from bittensor.core.async_subtensor import get_async_subtensor\n",
    "\n",
    "s = await get_async_subtensor(\"finney\")"
   ]
  },
  {
   "cell_type": "code",
   "execution_count": 2,
   "id": "117a2127",
   "metadata": {},
   "outputs": [],
   "source": [
    "subnets = await s.all_subnets()"
   ]
  },
  {
   "cell_type": "code",
   "execution_count": 23,
   "id": "42e50c0d",
   "metadata": {},
   "outputs": [
    {
     "data": {
      "text/plain": [
       "19.844077702377668"
      ]
     },
     "execution_count": 23,
     "metadata": {},
     "output_type": "execute_result"
    }
   ],
   "source": [
    "import bittensor as bt\n",
    "\n",
    "stake = bt.Balance(1.1)\n",
    "subnets[95].tao_slippage(stake, percentage=True)"
   ]
  }
 ],
 "metadata": {
  "kernelspec": {
   "display_name": ".venv (3.12.3)",
   "language": "python",
   "name": "python3"
  },
  "language_info": {
   "codemirror_mode": {
    "name": "ipython",
    "version": 3
   },
   "file_extension": ".py",
   "mimetype": "text/x-python",
   "name": "python",
   "nbconvert_exporter": "python",
   "pygments_lexer": "ipython3",
   "version": "3.12.3"
  }
 },
 "nbformat": 4,
 "nbformat_minor": 5
}
