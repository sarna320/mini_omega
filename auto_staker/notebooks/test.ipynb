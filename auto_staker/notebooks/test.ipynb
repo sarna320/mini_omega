{
 "cells": [
  {
   "cell_type": "code",
   "execution_count": 83,
   "id": "c507451c",
   "metadata": {},
   "outputs": [],
   "source": [
    "from bittensor.core.async_subtensor import get_async_subtensor\n",
    "\n",
    "\n",
    "s = await get_async_subtensor(\"finney\")"
   ]
  },
  {
   "cell_type": "code",
   "execution_count": 86,
   "id": "6a35dafb",
   "metadata": {},
   "outputs": [],
   "source": [
    "import bittensor as bt\n",
    "\n",
    "w = bt.wallet(\"trader\")\n",
    "stakes = await s.get_stake_for_coldkey(w.coldkey.ss58_address)"
   ]
  },
  {
   "cell_type": "code",
   "execution_count": 87,
   "id": "8b091913",
   "metadata": {},
   "outputs": [
    {
     "data": {
      "text/plain": [
       "[StakeInfo(hotkey_ss58='5E2LP6EnZ54m3wS8s1yPvD5c3xo71kQroBw7aUVK32TKeZ5u', coldkey_ss58='5DF1kZx7pnLZNQzV2h1iyNK26F1fQ1D2pcvXJspcqF9ACMRp', netuid=0, stake=τ5.192698238, locked=τ0.000000000, emission=τ0.000000000, drain=0, is_registered=True),\n",
       " StakeInfo(hotkey_ss58='5E2LP6EnZ54m3wS8s1yPvD5c3xo71kQroBw7aUVK32TKeZ5u', coldkey_ss58='5DF1kZx7pnLZNQzV2h1iyNK26F1fQ1D2pcvXJspcqF9ACMRp', netuid=62, stake=‎0.616776263ز‎, locked=‎0.000000000ز‎, emission=‎19.096976665ز‎, drain=0, is_registered=True)]"
      ]
     },
     "execution_count": 87,
     "metadata": {},
     "output_type": "execute_result"
    }
   ],
   "source": [
    "stakes"
   ]
  },
  {
   "cell_type": "code",
   "execution_count": 89,
   "id": "d2af33d9",
   "metadata": {},
   "outputs": [
    {
     "data": {
      "text/plain": [
       "‎0.616776263ز‎"
      ]
     },
     "execution_count": 89,
     "metadata": {},
     "output_type": "execute_result"
    }
   ],
   "source": [
    "stakes[1].stake"
   ]
  },
  {
   "cell_type": "code",
   "execution_count": 92,
   "id": "fbff6f8b",
   "metadata": {},
   "outputs": [
    {
     "data": {
      "text/plain": [
       "τ0.000121692"
      ]
     },
     "execution_count": 92,
     "metadata": {},
     "output_type": "execute_result"
    }
   ],
   "source": [
    "await s.get_balance(w.coldkey.ss58_address)"
   ]
  },
  {
   "cell_type": "code",
   "execution_count": 90,
   "id": "cb5f93cd",
   "metadata": {},
   "outputs": [
    {
     "name": "stderr",
     "output_type": "stream",
     "text": [
      "<frozen abc>:123: RuntimeWarning: coroutine 'main' was never awaited\n",
      "RuntimeWarning: Enable tracemalloc to get the object allocation traceback\n"
     ]
    },
    {
     "data": {
      "text/plain": [
       "True"
      ]
     },
     "execution_count": 90,
     "metadata": {},
     "output_type": "execute_result"
    }
   ],
   "source": [
    "\n",
    "\n",
    "await s.swap_stake(\n",
    "    bt.wallet(\"trader\"),\n",
    "    \"5E2LP6EnZ54m3wS8s1yPvD5c3xo71kQroBw7aUVK32TKeZ5u\",\n",
    "    62,\n",
    "    0,\n",
    "    stakes[1].stake,\n",
    "    True,\n",
    "    False,\n",
    "    \n",
    "    \n",
    ")"
   ]
  },
  {
   "cell_type": "code",
   "execution_count": 2,
   "id": "117a2127",
   "metadata": {},
   "outputs": [],
   "source": [
    "subnets = await s.all_subnets()"
   ]
  },
  {
   "cell_type": "code",
   "execution_count": 3,
   "id": "42e50c0d",
   "metadata": {},
   "outputs": [
    {
     "ename": "NameError",
     "evalue": "name 'subnets' is not defined",
     "output_type": "error",
     "traceback": [
      "\u001b[31m---------------------------------------------------------------------------\u001b[39m",
      "\u001b[31mNameError\u001b[39m                                 Traceback (most recent call last)",
      "\u001b[36mCell\u001b[39m\u001b[36m \u001b[39m\u001b[32mIn[3]\u001b[39m\u001b[32m, line 4\u001b[39m\n\u001b[32m      1\u001b[39m \u001b[38;5;28;01mimport\u001b[39;00m\u001b[38;5;250m \u001b[39m\u001b[34;01mbittensor\u001b[39;00m\u001b[38;5;250m \u001b[39m\u001b[38;5;28;01mas\u001b[39;00m\u001b[38;5;250m \u001b[39m\u001b[34;01mbt\u001b[39;00m\n\u001b[32m      3\u001b[39m stake = bt.Balance(\u001b[32m1.1\u001b[39m)\n\u001b[32m----> \u001b[39m\u001b[32m4\u001b[39m \u001b[43msubnets\u001b[49m[\u001b[32m95\u001b[39m].tao_slippage(stake, percentage=\u001b[38;5;28;01mTrue\u001b[39;00m)\n",
      "\u001b[31mNameError\u001b[39m: name 'subnets' is not defined"
     ]
    }
   ],
   "source": [
    "import bittensor as bt\n",
    "\n",
    "stake = bt.Balance(1.1)\n",
    "subnets[95].tao_slippage(stake, percentage=True)"
   ]
  },
  {
   "cell_type": "code",
   "execution_count": null,
   "id": "041fceea",
   "metadata": {},
   "outputs": [],
   "source": []
  },
  {
   "cell_type": "code",
   "execution_count": 7,
   "id": "ddab7ad3",
   "metadata": {},
   "outputs": [
    {
     "data": {
      "text/plain": [
       "[]"
      ]
     },
     "execution_count": 7,
     "metadata": {},
     "output_type": "execute_result"
    }
   ],
   "source": [
    "await s.get_stake_for_coldkey(w.coldkey.ss58_address)"
   ]
  },
  {
   "cell_type": "code",
   "execution_count": 8,
   "id": "e3d2bf39",
   "metadata": {},
   "outputs": [
    {
     "data": {
      "text/plain": [
       "[]"
      ]
     },
     "execution_count": 8,
     "metadata": {},
     "output_type": "execute_result"
    }
   ],
   "source": [
    "await s.get_stake_info_for_coldkey(w.coldkey.ss58_address)\n"
   ]
  },
  {
   "cell_type": "code",
   "execution_count": null,
   "id": "b48a4cc0",
   "metadata": {},
   "outputs": [
    {
     "data": {
      "text/plain": [
       "τ0.010000000"
      ]
     },
     "execution_count": 10,
     "metadata": {},
     "output_type": "execute_result"
    }
   ],
   "source": [
    "from bittensor.core.async_subtensor import get_async_subtensor\n",
    "\n",
    "\n",
    "s = await get_async_subtensor(\"finney\")\n",
    "await s.add_stake()\n",
    "await s.move_stake()\n",
    "await s.swap_stake()\n",
    "await s.transfer_stake()"
   ]
  },
  {
   "cell_type": "code",
   "execution_count": 45,
   "id": "91886b70",
   "metadata": {},
   "outputs": [
    {
     "data": {
      "text/plain": [
       "τ48.000000000"
      ]
     },
     "execution_count": 45,
     "metadata": {},
     "output_type": "execute_result"
    }
   ],
   "source": [
    "import bittensor as bt\n",
    "\n",
    "amount = bt.Balance(30.0)\n",
    "x = bt.Balance(12.0)\n",
    "amount - x\n",
    "x*4"
   ]
  },
  {
   "cell_type": "code",
   "execution_count": 62,
   "id": "1f220a4d",
   "metadata": {},
   "outputs": [
    {
     "name": "stdout",
     "output_type": "stream",
     "text": [
      "Expected % fee on movement: τ0.005035477\n",
      "Expected % fee on movement 10x: τ0.050354770\n"
     ]
    }
   ],
   "source": [
    "# English-only comments and code\n",
    "from bittensor.core.async_subtensor import get_async_subtensor\n",
    "from bittensor.utils.balance import Balance\n",
    "import bittensor as bt\n",
    "\n",
    "w = bt.wallet(\"trader\")\n",
    "s = await get_async_subtensor(\"finney\")\n",
    "\n",
    "# Percentage fee only applies when origin_netuid != destination_netuid\n",
    "amount = Balance.from_tao(10)\n",
    "\n",
    "origin_netuid = 0\n",
    "destination_netuid = 0\n",
    "\n",
    "origin_hotkey_ss58 = \"5E2LP6EnZ54m3wS8s1yPvD5c3xo71kQroBw7aUVK32TKeZ5u\"\n",
    "destination_hotkey_ss58 = \"5E2LP6EnZ54m3wS8s1yPvD5c3xo71kQroBw7aUVK32TKeZ5u\"\n",
    "\n",
    "origin_coldkey_ss58 = w.coldkey.ss58_address\n",
    "destination_coldkey_ss58 = w.coldkey.ss58_address\n",
    "\n",
    "# SDK exposes helpers under staking API (names may differ by version)\n",
    "fee_info = await s.get_stake_movement_fee(\n",
    "    amount=amount,\n",
    "    origin_netuid=origin_netuid,\n",
    "    origin_hotkey_ss58=origin_hotkey_ss58,\n",
    "    origin_coldkey_ss58=origin_coldkey_ss58,\n",
    "    destination_netuid=destination_netuid,\n",
    "    destination_hotkey_ss58=destination_hotkey_ss58,\n",
    "    destination_coldkey_ss58=destination_coldkey_ss58,\n",
    ")\n",
    "print(\"Expected % fee on movement:\", fee_info)\n",
    "print(\"Expected % fee on movement 10x:\", 10 * fee_info)"
   ]
  },
  {
   "cell_type": "code",
   "execution_count": 36,
   "id": "17610459",
   "metadata": {},
   "outputs": [
    {
     "data": {
      "text/plain": [
       "τ0.015106431"
      ]
     },
     "execution_count": 36,
     "metadata": {},
     "output_type": "execute_result"
    }
   ],
   "source": [
    "await s.get_stake_add_fee(amount,0,origin_coldkey_ss58,origin_hotkey_ss58)"
   ]
  },
  {
   "cell_type": "code",
   "execution_count": 60,
   "id": "729e5b37",
   "metadata": {},
   "outputs": [
    {
     "data": {
      "text/plain": [
       "-0.000617095"
      ]
     },
     "execution_count": 60,
     "metadata": {},
     "output_type": "execute_result"
    }
   ],
   "source": [
    "0.00039 - 0.001007095"
   ]
  },
  {
   "cell_type": "code",
   "execution_count": 59,
   "id": "60852e40",
   "metadata": {},
   "outputs": [
    {
     "data": {
      "text/plain": [
       "τ0.001007095"
      ]
     },
     "execution_count": 59,
     "metadata": {},
     "output_type": "execute_result"
    }
   ],
   "source": [
    "amount = Balance.from_tao(2)\n",
    "\n",
    "await s.get_unstake_fee(amount, 0, origin_coldkey_ss58, origin_hotkey_ss58)"
   ]
  },
  {
   "cell_type": "code",
   "execution_count": null,
   "id": "db250cb8",
   "metadata": {},
   "outputs": [],
   "source": [
    "\n"
   ]
  },
  {
   "cell_type": "code",
   "execution_count": 81,
   "id": "13946c71",
   "metadata": {},
   "outputs": [
    {
     "data": {
      "text/plain": [
       "False"
      ]
     },
     "execution_count": 81,
     "metadata": {},
     "output_type": "execute_result"
    }
   ],
   "source": [
    "balance = Balance.from_tao(0.004)\n",
    "fee_unit = Balance.from_tao(0.005)\n",
    "\n",
    "\n",
    "balance >= (fee_unit + Balance.from_tao(1.81))"
   ]
  },
  {
   "cell_type": "code",
   "execution_count": 82,
   "id": "73772ef8",
   "metadata": {},
   "outputs": [
    {
     "data": {
      "text/plain": [
       "τ0.046000000"
      ]
     },
     "execution_count": 82,
     "metadata": {},
     "output_type": "execute_result"
    }
   ],
   "source": [
    "deficit = fee_unit * 10 - balance\n",
    "deficit"
   ]
  },
  {
   "cell_type": "code",
   "execution_count": null,
   "id": "31c95e11",
   "metadata": {},
   "outputs": [],
   "source": [
    "\n",
    "call_function = \"swap_stake\"\n",
    "\n",
    "call_params = {\n",
    "    \"hotkey\": hotkey_ss58,\n",
    "    \"origin_netuid\": origin_netuid,\n",
    "    \"destination_netuid\": destination_netuid,\n",
    "    \"alpha_amount\": amount.rao,\n",
    "}\n",
    "call = await subtensor.substrate.compose_call(\n",
    "    call_module=\"SubtensorModule\",\n",
    "    call_function=call_function,\n",
    "    call_params=call_params,\n",
    ")\n",
    "\n",
    "success, err_msg = await subtensor.sign_and_send_extrinsic(\n",
    "            call=call,\n",
    "            wallet=wallet,\n",
    "            wait_for_inclusion=wait_for_inclusion,\n",
    "            wait_for_finalization=wait_for_finalization,\n",
    "            period=period,\n",
    "        )"
   ]
  }
 ],
 "metadata": {
  "kernelspec": {
   "display_name": ".venv (3.12.3)",
   "language": "python",
   "name": "python3"
  },
  "language_info": {
   "codemirror_mode": {
    "name": "ipython",
    "version": 3
   },
   "file_extension": ".py",
   "mimetype": "text/x-python",
   "name": "python",
   "nbconvert_exporter": "python",
   "pygments_lexer": "ipython3",
   "version": "3.12.3"
  }
 },
 "nbformat": 4,
 "nbformat_minor": 5
}
