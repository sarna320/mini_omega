{
 "cells": [
  {
   "cell_type": "code",
   "execution_count": 9,
   "id": "c507451c",
   "metadata": {},
   "outputs": [],
   "source": [
    "from bittensor.core.async_subtensor import get_async_subtensor\n",
    "\n",
    "\n",
    "s = await get_async_subtensor(\"archive\")"
   ]
  },
  {
   "cell_type": "code",
   "execution_count": 2,
   "id": "99596302",
   "metadata": {},
   "outputs": [],
   "source": [
    "all_subnets  = await s.all_subnets()"
   ]
  },
  {
   "cell_type": "code",
   "execution_count": 7,
   "id": "15399173",
   "metadata": {},
   "outputs": [
    {
     "data": {
      "text/plain": [
       "{'subnet_name': 'VoidAI',\n",
       " 'github_repo': 'https://github.com/v0idai/SN106',\n",
       " 'subnet_contact': 'voidai7777@gmail.com',\n",
       " 'subnet_url': 'voidai.com',\n",
       " 'logo_url': None,\n",
       " 'discord': 'https://discord.gg/j27fqCwn',\n",
       " 'description': 'Multi-chain liquidity protocol enabling interoperability for Bittensor by leveraging Chainlink CCIP',\n",
       " 'additional': ''}"
      ]
     },
     "execution_count": 7,
     "metadata": {},
     "output_type": "execute_result"
    }
   ],
   "source": [
    "all_subnets[106].subnet_identity.__dict__"
   ]
  },
  {
   "cell_type": "code",
   "execution_count": 10,
   "id": "182884c8",
   "metadata": {},
   "outputs": [
    {
     "data": {
      "text/plain": [
       "{'subnet_name': 'VoidAI',\n",
       " 'github_repo': '',\n",
       " 'subnet_contact': 'voidai7777@gmail.com',\n",
       " 'subnet_url': 'voidai.com',\n",
       " 'logo_url': None,\n",
       " 'discord': '',\n",
       " 'description': 'Multi-chain liquidity protocol enabling interoperability for Bittensor by leveraging Chainlink CCIP',\n",
       " 'additional': ''}"
      ]
     },
     "execution_count": 10,
     "metadata": {},
     "output_type": "execute_result"
    }
   ],
   "source": [
    "all_subnets  = await s.all_subnets(6393388-10)\n",
    "all_subnets[106].subnet_identity.__dict__\n"
   ]
  },
  {
   "cell_type": "code",
   "execution_count": 11,
   "id": "aea72ff4",
   "metadata": {},
   "outputs": [
    {
     "data": {
      "text/plain": [
       "[24, 48, 72, 96, 120, 144, 168, 192, 216, 240]"
      ]
     },
     "execution_count": 11,
     "metadata": {},
     "output_type": "execute_result"
    }
   ],
   "source": [
    "[24*i for i in range(1,11)]"
   ]
  },
  {
   "cell_type": "code",
   "execution_count": 86,
   "id": "6a35dafb",
   "metadata": {},
   "outputs": [],
   "source": [
    "import bittensor as bt\n",
    "\n",
    "w = bt.wallet(\"trader\")\n",
    "stakes = await s.get_stake_for_coldkey(w.coldkey.ss58_address)"
   ]
  },
  {
   "cell_type": "code",
   "execution_count": 87,
   "id": "8b091913",
   "metadata": {},
   "outputs": [
    {
     "data": {
      "text/plain": [
       "[StakeInfo(hotkey_ss58='5E2LP6EnZ54m3wS8s1yPvD5c3xo71kQroBw7aUVK32TKeZ5u', coldkey_ss58='5DF1kZx7pnLZNQzV2h1iyNK26F1fQ1D2pcvXJspcqF9ACMRp', netuid=0, stake=τ5.192698238, locked=τ0.000000000, emission=τ0.000000000, drain=0, is_registered=True),\n",
       " StakeInfo(hotkey_ss58='5E2LP6EnZ54m3wS8s1yPvD5c3xo71kQroBw7aUVK32TKeZ5u', coldkey_ss58='5DF1kZx7pnLZNQzV2h1iyNK26F1fQ1D2pcvXJspcqF9ACMRp', netuid=62, stake=‎0.616776263ز‎, locked=‎0.000000000ز‎, emission=‎19.096976665ز‎, drain=0, is_registered=True)]"
      ]
     },
     "execution_count": 87,
     "metadata": {},
     "output_type": "execute_result"
    }
   ],
   "source": [
    "stakes"
   ]
  },
  {
   "cell_type": "code",
   "execution_count": 89,
   "id": "d2af33d9",
   "metadata": {},
   "outputs": [
    {
     "data": {
      "text/plain": [
       "‎0.616776263ز‎"
      ]
     },
     "execution_count": 89,
     "metadata": {},
     "output_type": "execute_result"
    }
   ],
   "source": [
    "stakes[1].stake"
   ]
  },
  {
   "cell_type": "code",
   "execution_count": 92,
   "id": "fbff6f8b",
   "metadata": {},
   "outputs": [
    {
     "data": {
      "text/plain": [
       "τ0.000121692"
      ]
     },
     "execution_count": 92,
     "metadata": {},
     "output_type": "execute_result"
    }
   ],
   "source": [
    "await s.get_balance(w.coldkey.ss58_address)"
   ]
  },
  {
   "cell_type": "code",
   "execution_count": 90,
   "id": "cb5f93cd",
   "metadata": {},
   "outputs": [
    {
     "name": "stderr",
     "output_type": "stream",
     "text": [
      "<frozen abc>:123: RuntimeWarning: coroutine 'main' was never awaited\n",
      "RuntimeWarning: Enable tracemalloc to get the object allocation traceback\n"
     ]
    },
    {
     "data": {
      "text/plain": [
       "True"
      ]
     },
     "execution_count": 90,
     "metadata": {},
     "output_type": "execute_result"
    }
   ],
   "source": [
    "\n",
    "\n",
    "await s.swap_stake(\n",
    "    bt.wallet(\"trader\"),\n",
    "    \"5E2LP6EnZ54m3wS8s1yPvD5c3xo71kQroBw7aUVK32TKeZ5u\",\n",
    "    62,\n",
    "    0,\n",
    "    stakes[1].stake,\n",
    "    True,\n",
    "    False,\n",
    "    \n",
    "    \n",
    ")"
   ]
  },
  {
   "cell_type": "code",
   "execution_count": 2,
   "id": "117a2127",
   "metadata": {},
   "outputs": [],
   "source": [
    "subnets = await s.all_subnets()"
   ]
  },
  {
   "cell_type": "code",
   "execution_count": 3,
   "id": "42e50c0d",
   "metadata": {},
   "outputs": [
    {
     "ename": "NameError",
     "evalue": "name 'subnets' is not defined",
     "output_type": "error",
     "traceback": [
      "\u001b[31m---------------------------------------------------------------------------\u001b[39m",
      "\u001b[31mNameError\u001b[39m                                 Traceback (most recent call last)",
      "\u001b[36mCell\u001b[39m\u001b[36m \u001b[39m\u001b[32mIn[3]\u001b[39m\u001b[32m, line 4\u001b[39m\n\u001b[32m      1\u001b[39m \u001b[38;5;28;01mimport\u001b[39;00m\u001b[38;5;250m \u001b[39m\u001b[34;01mbittensor\u001b[39;00m\u001b[38;5;250m \u001b[39m\u001b[38;5;28;01mas\u001b[39;00m\u001b[38;5;250m \u001b[39m\u001b[34;01mbt\u001b[39;00m\n\u001b[32m      3\u001b[39m stake = bt.Balance(\u001b[32m1.1\u001b[39m)\n\u001b[32m----> \u001b[39m\u001b[32m4\u001b[39m \u001b[43msubnets\u001b[49m[\u001b[32m95\u001b[39m].tao_slippage(stake, percentage=\u001b[38;5;28;01mTrue\u001b[39;00m)\n",
      "\u001b[31mNameError\u001b[39m: name 'subnets' is not defined"
     ]
    }
   ],
   "source": [
    "import bittensor as bt\n",
    "\n",
    "stake = bt.Balance(1.1)\n",
    "subnets[95].tao_slippage(stake, percentage=True)"
   ]
  },
  {
   "cell_type": "code",
   "execution_count": null,
   "id": "041fceea",
   "metadata": {},
   "outputs": [],
   "source": []
  },
  {
   "cell_type": "code",
   "execution_count": 7,
   "id": "ddab7ad3",
   "metadata": {},
   "outputs": [
    {
     "data": {
      "text/plain": [
       "[]"
      ]
     },
     "execution_count": 7,
     "metadata": {},
     "output_type": "execute_result"
    }
   ],
   "source": [
    "await s.get_stake_for_coldkey(w.coldkey.ss58_address)"
   ]
  },
  {
   "cell_type": "code",
   "execution_count": 8,
   "id": "e3d2bf39",
   "metadata": {},
   "outputs": [
    {
     "data": {
      "text/plain": [
       "[]"
      ]
     },
     "execution_count": 8,
     "metadata": {},
     "output_type": "execute_result"
    }
   ],
   "source": [
    "await s.get_stake_info_for_coldkey(w.coldkey.ss58_address)\n"
   ]
  },
  {
   "cell_type": "code",
   "execution_count": null,
   "id": "b48a4cc0",
   "metadata": {},
   "outputs": [
    {
     "data": {
      "text/plain": [
       "τ0.010000000"
      ]
     },
     "execution_count": 10,
     "metadata": {},
     "output_type": "execute_result"
    }
   ],
   "source": [
    "from bittensor.core.async_subtensor import get_async_subtensor\n",
    "\n",
    "\n",
    "s = await get_async_subtensor(\"finney\")\n",
    "await s.add_stake()\n",
    "await s.move_stake()\n",
    "await s.swap_stake()\n",
    "await s.transfer_stake()"
   ]
  },
  {
   "cell_type": "code",
   "execution_count": 45,
   "id": "91886b70",
   "metadata": {},
   "outputs": [
    {
     "data": {
      "text/plain": [
       "τ48.000000000"
      ]
     },
     "execution_count": 45,
     "metadata": {},
     "output_type": "execute_result"
    }
   ],
   "source": [
    "import bittensor as bt\n",
    "\n",
    "amount = bt.Balance(30.0)\n",
    "x = bt.Balance(12.0)\n",
    "amount - x\n",
    "x*4"
   ]
  },
  {
   "cell_type": "code",
   "execution_count": 62,
   "id": "1f220a4d",
   "metadata": {},
   "outputs": [
    {
     "name": "stdout",
     "output_type": "stream",
     "text": [
      "Expected % fee on movement: τ0.005035477\n",
      "Expected % fee on movement 10x: τ0.050354770\n"
     ]
    }
   ],
   "source": [
    "# English-only comments and code\n",
    "from bittensor.core.async_subtensor import get_async_subtensor\n",
    "from bittensor.utils.balance import Balance\n",
    "import bittensor as bt\n",
    "\n",
    "w = bt.wallet(\"trader\")\n",
    "s = await get_async_subtensor(\"finney\")\n",
    "\n",
    "# Percentage fee only applies when origin_netuid != destination_netuid\n",
    "amount = Balance.from_tao(10)\n",
    "\n",
    "origin_netuid = 0\n",
    "destination_netuid = 0\n",
    "\n",
    "origin_hotkey_ss58 = \"5E2LP6EnZ54m3wS8s1yPvD5c3xo71kQroBw7aUVK32TKeZ5u\"\n",
    "destination_hotkey_ss58 = \"5E2LP6EnZ54m3wS8s1yPvD5c3xo71kQroBw7aUVK32TKeZ5u\"\n",
    "\n",
    "origin_coldkey_ss58 = w.coldkey.ss58_address\n",
    "destination_coldkey_ss58 = w.coldkey.ss58_address\n",
    "\n",
    "# SDK exposes helpers under staking API (names may differ by version)\n",
    "fee_info = await s.get_stake_movement_fee(\n",
    "    amount=amount,\n",
    "    origin_netuid=origin_netuid,\n",
    "    origin_hotkey_ss58=origin_hotkey_ss58,\n",
    "    origin_coldkey_ss58=origin_coldkey_ss58,\n",
    "    destination_netuid=destination_netuid,\n",
    "    destination_hotkey_ss58=destination_hotkey_ss58,\n",
    "    destination_coldkey_ss58=destination_coldkey_ss58,\n",
    ")\n",
    "print(\"Expected % fee on movement:\", fee_info)\n",
    "print(\"Expected % fee on movement 10x:\", 10 * fee_info)"
   ]
  },
  {
   "cell_type": "code",
   "execution_count": 36,
   "id": "17610459",
   "metadata": {},
   "outputs": [
    {
     "data": {
      "text/plain": [
       "τ0.015106431"
      ]
     },
     "execution_count": 36,
     "metadata": {},
     "output_type": "execute_result"
    }
   ],
   "source": [
    "await s.get_stake_add_fee(amount,0,origin_coldkey_ss58,origin_hotkey_ss58)"
   ]
  },
  {
   "cell_type": "code",
   "execution_count": 60,
   "id": "729e5b37",
   "metadata": {},
   "outputs": [
    {
     "data": {
      "text/plain": [
       "-0.000617095"
      ]
     },
     "execution_count": 60,
     "metadata": {},
     "output_type": "execute_result"
    }
   ],
   "source": [
    "0.00039 - 0.001007095"
   ]
  },
  {
   "cell_type": "code",
   "execution_count": 59,
   "id": "60852e40",
   "metadata": {},
   "outputs": [
    {
     "data": {
      "text/plain": [
       "τ0.001007095"
      ]
     },
     "execution_count": 59,
     "metadata": {},
     "output_type": "execute_result"
    }
   ],
   "source": [
    "amount = Balance.from_tao(2)\n",
    "\n",
    "await s.get_unstake_fee(amount, 0, origin_coldkey_ss58, origin_hotkey_ss58)"
   ]
  },
  {
   "cell_type": "code",
   "execution_count": null,
   "id": "db250cb8",
   "metadata": {},
   "outputs": [],
   "source": [
    "\n"
   ]
  },
  {
   "cell_type": "code",
   "execution_count": 81,
   "id": "13946c71",
   "metadata": {},
   "outputs": [
    {
     "data": {
      "text/plain": [
       "False"
      ]
     },
     "execution_count": 81,
     "metadata": {},
     "output_type": "execute_result"
    }
   ],
   "source": [
    "balance = Balance.from_tao(0.004)\n",
    "fee_unit = Balance.from_tao(0.005)\n",
    "\n",
    "\n",
    "balance >= (fee_unit + Balance.from_tao(1.81))"
   ]
  },
  {
   "cell_type": "code",
   "execution_count": 82,
   "id": "73772ef8",
   "metadata": {},
   "outputs": [
    {
     "data": {
      "text/plain": [
       "τ0.046000000"
      ]
     },
     "execution_count": 82,
     "metadata": {},
     "output_type": "execute_result"
    }
   ],
   "source": [
    "deficit = fee_unit * 10 - balance\n",
    "deficit"
   ]
  },
  {
   "cell_type": "code",
   "execution_count": null,
   "id": "31c95e11",
   "metadata": {},
   "outputs": [],
   "source": [
    "\n",
    "call_function = \"swap_stake\"\n",
    "\n",
    "call_params = {\n",
    "    \"hotkey\": hotkey_ss58,\n",
    "    \"origin_netuid\": origin_netuid,\n",
    "    \"destination_netuid\": destination_netuid,\n",
    "    \"alpha_amount\": amount.rao,\n",
    "}\n",
    "call = await subtensor.substrate.compose_call(\n",
    "    call_module=\"SubtensorModule\",\n",
    "    call_function=call_function,\n",
    "    call_params=call_params,\n",
    ")\n",
    "\n",
    "success, err_msg = await subtensor.sign_and_send_extrinsic(\n",
    "            call=call,\n",
    "            wallet=wallet,\n",
    "            wait_for_inclusion=wait_for_inclusion,\n",
    "            wait_for_finalization=wait_for_finalization,\n",
    "            period=period,\n",
    "        )"
   ]
  },
  {
   "cell_type": "code",
   "execution_count": 51,
   "id": "57d9278e",
   "metadata": {},
   "outputs": [],
   "source": [
    "from bittensor.core.async_subtensor import get_async_subtensor\n",
    "\n",
    "\n",
    "subtensor = await get_async_subtensor(\"finney\")\n",
    "hotkey_to_stake = \"5E2LP6EnZ54m3wS8s1yPvD5c3xo71kQroBw7aUVK32TKeZ5u\"\n",
    "origin_netuid = 62\n",
    "destination_netuid = 0\n",
    "\n",
    "import bittensor as bt\n",
    "\n",
    "wallet = bt.wallet(\"trader\")"
   ]
  },
  {
   "cell_type": "code",
   "execution_count": 52,
   "id": "fe3f8f7f",
   "metadata": {},
   "outputs": [
    {
     "data": {
      "text/plain": [
       "‎0.592018294ز‎"
      ]
     },
     "execution_count": 52,
     "metadata": {},
     "output_type": "execute_result"
    }
   ],
   "source": [
    "stakes = await subtensor.get_stake_for_coldkey(wallet.coldkey.ss58_address)\n",
    "to_move = stakes[1].stake\n",
    "to_move"
   ]
  },
  {
   "cell_type": "code",
   "execution_count": 53,
   "id": "8be88792",
   "metadata": {},
   "outputs": [
    {
     "data": {
      "text/plain": [
       "[StakeInfo(hotkey_ss58='5E2LP6EnZ54m3wS8s1yPvD5c3xo71kQroBw7aUVK32TKeZ5u', coldkey_ss58='5DF1kZx7pnLZNQzV2h1iyNK26F1fQ1D2pcvXJspcqF9ACMRp', netuid=0, stake=τ4.053842731, locked=τ0.000000000, emission=τ0.000000000, drain=0, is_registered=True),\n",
       " StakeInfo(hotkey_ss58='5E2LP6EnZ54m3wS8s1yPvD5c3xo71kQroBw7aUVK32TKeZ5u', coldkey_ss58='5DF1kZx7pnLZNQzV2h1iyNK26F1fQ1D2pcvXJspcqF9ACMRp', netuid=62, stake=‎0.592018294ز‎, locked=‎0.000000000ز‎, emission=‎22.034566734ز‎, drain=0, is_registered=True),\n",
       " StakeInfo(hotkey_ss58='5E2LP6EnZ54m3wS8s1yPvD5c3xo71kQroBw7aUVK32TKeZ5u', coldkey_ss58='5DF1kZx7pnLZNQzV2h1iyNK26F1fQ1D2pcvXJspcqF9ACMRp', netuid=121, stake=‎331.420778444Ⲅ‎, locked=‎0.000000000Ⲅ‎, emission=‎24.729259255Ⲅ‎, drain=0, is_registered=True)]"
      ]
     },
     "execution_count": 53,
     "metadata": {},
     "output_type": "execute_result"
    }
   ],
   "source": [
    "stakes"
   ]
  },
  {
   "cell_type": "code",
   "execution_count": 54,
   "id": "0dd8f4b5",
   "metadata": {},
   "outputs": [
    {
     "name": "stdout",
     "output_type": "stream",
     "text": [
      "True \n"
     ]
    }
   ],
   "source": [
    "from bittensor.utils import (\n",
    "    format_error_message,\n",
    ")\n",
    "from bittensor.core.errors import SubstrateRequestException\n",
    "\n",
    "\n",
    "call = await subtensor.substrate.compose_call(\n",
    "    call_module=\"SubtensorModule\",\n",
    "    call_function=\"swap_stake\",\n",
    "    call_params={\n",
    "        \"hotkey\": hotkey_to_stake,\n",
    "        \"origin_netuid\": origin_netuid,\n",
    "        \"destination_netuid\": destination_netuid,\n",
    "        \"alpha_amount\": to_move.rao,\n",
    "    },\n",
    ")\n",
    "\n",
    "sign_with: str = \"coldkey\"\n",
    "nonce_key = \"coldkeypub\"\n",
    "signing_keypair = getattr(wallet, sign_with)\n",
    "extrinsic_data = {\"call\": call, \"keypair\": signing_keypair}\n",
    "\n",
    "next_nonce = await subtensor.substrate.get_account_next_index(\n",
    "    getattr(wallet, nonce_key).ss58_address\n",
    ")\n",
    "extrinsic_data[\"nonce\"] = next_nonce\n",
    "\n",
    "head = await subtensor.get_current_block()\n",
    "extrinsic_data[\"era\"] = {\"period\": 4, \"current\": head - 2}\n",
    "extrinsic = await subtensor.substrate.create_signed_extrinsic(**extrinsic_data)\n",
    "try:\n",
    "    response = await subtensor.substrate.submit_extrinsic(\n",
    "        extrinsic,\n",
    "        wait_for_inclusion=True,\n",
    "        wait_for_finalization=False,\n",
    "    )\n",
    "\n",
    "    if await response.is_success:\n",
    "        print(True, \"\")\n",
    "    else:\n",
    "        print(False, format_error_message(await response.error_message))\n",
    "\n",
    "except SubstrateRequestException as e:\n",
    "    print(False, format_error_message(e))"
   ]
  },
  {
   "cell_type": "code",
   "execution_count": null,
   "id": "adc6e65a",
   "metadata": {},
   "outputs": [],
   "source": [
    "wallet = bt.wallet(\"trader\")\n",
    "stakes = await subtensor.get_stake_for_coldkey(wallet.coldkey.ss58_address)\n",
    "to_move = stakes[1].stake/5\n",
    "to_move"
   ]
  },
  {
   "cell_type": "code",
   "execution_count": null,
   "id": "c72c8e2f",
   "metadata": {},
   "outputs": [],
   "source": [
    "from scalecodec.types import GenericCall\n",
    "from bittensor.utils import format_error_message\n",
    "from bittensor.core.errors import SubstrateRequestException\n",
    "from typing import TYPE_CHECKING, TypedDict, Any, Dict, cast\n",
    "from bittensor.core.async_subtensor import get_async_subtensor\n",
    "\n",
    "\n",
    "from scalecodec.types import GenericCall\n",
    "from bittensor.utils import (\n",
    "    format_error_message,\n",
    ")\n",
    "from bittensor.core.errors import SubstrateRequestException\n",
    "\n",
    "\n",
    "from scalecodec.types import GenericCall\n",
    "from bittensor.utils import format_error_message\n",
    "from bittensor.core.errors import SubstrateRequestException\n",
    "from typing import TYPE_CHECKING, TypedDict, Any, Dict, cast\n",
    "\n",
    "\n",
    "class ExtrinsicData(TypedDict, total=False):\n",
    "    \"\"\"Lightweight typing for the kwargs expected by create_signed_extrinsic.\"\"\"\n",
    "\n",
    "    call: GenericCall\n",
    "    keypair: Any  # substrate keypair object; keep as Any to avoid importing substrate types here\n",
    "    nonce: int\n",
    "    era: Dict[str, int]  # e.g. {\"period\": 4, \"current\": <block_num>}\n",
    "\n",
    "\n",
    "async def swap_stake_ext(\n",
    "    destination_netuid: int,\n",
    "    amount_rao: int,\n",
    "    origin_netuid: int = 0,\n",
    ") -> ExtrinsicData:\n",
    "    \"\"\"Build the call and return partial extrinsic data (call + keypair).\"\"\"\n",
    "    call = await subtensor.substrate.compose_call(\n",
    "        call_module=\"SubtensorModule\",\n",
    "        call_function=\"swap_stake\",\n",
    "        call_params={\n",
    "            \"hotkey\": hotkey_to_stake,\n",
    "            \"origin_netuid\": origin_netuid,\n",
    "            \"destination_netuid\": destination_netuid,\n",
    "            \"alpha_amount\": amount_rao,\n",
    "        },\n",
    "    )\n",
    "    # Choose which key to sign with\n",
    "    sign_with: str = \"coldkey\"\n",
    "    signing_keypair = getattr(wallet, sign_with)\n",
    "\n",
    "    extrinsic_data: ExtrinsicData = {\"call\": call, \"keypair\": signing_keypair}\n",
    "    return extrinsic_data\n",
    "\n",
    "\n",
    "async def submit_extrinsic(\n",
    "    extrinsic_data: ExtrinsicData,\n",
    "    current_block,\n",
    ") -> tuple[bool, str]:\n",
    "    \"\"\"Complete extrinsic_data (nonce/era), sign and submit.\"\"\"\n",
    "    # Compute next nonce using coldkeypub address\n",
    "    nonce_key = \"coldkeypub\"\n",
    "    next_nonce = await subtensor.substrate.get_account_next_index(\n",
    "        getattr(wallet, nonce_key).ss58_address\n",
    "    )\n",
    "    extrinsic_data[\"nonce\"] = next_nonce\n",
    "\n",
    "    # Add a mortal era (example values)\n",
    "    extrinsic_data[\"era\"] = {\"period\": 4, \"current\": current_block - 2}\n",
    "\n",
    "    # Create signed extrinsic (cast so **kwargs typing is satisfied)\n",
    "    extrinsic = await subtensor.substrate.create_signed_extrinsic(\n",
    "        **cast(Dict[str, Any], extrinsic_data)\n",
    "    )\n",
    "\n",
    "    try:\n",
    "        response = await subtensor.substrate.submit_extrinsic(\n",
    "            extrinsic,\n",
    "            wait_for_inclusion=True,\n",
    "            wait_for_finalization=False,\n",
    "        )\n",
    "\n",
    "        if await response.is_success:\n",
    "            return True, \"\"\n",
    "\n",
    "        return False, format_error_message(await response.error_message)\n",
    "\n",
    "    except SubstrateRequestException as e:\n",
    "        return False, format_error_message(e)"
   ]
  },
  {
   "cell_type": "code",
   "execution_count": 44,
   "id": "254fc44f",
   "metadata": {},
   "outputs": [
    {
     "data": {
      "text/plain": [
       "‎1.000000000Ⲅ‎"
      ]
     },
     "execution_count": 44,
     "metadata": {},
     "output_type": "execute_result"
    }
   ],
   "source": [
    "to_move = to_move.from_tao(1,121)\n",
    "to_move"
   ]
  },
  {
   "cell_type": "code",
   "execution_count": 45,
   "id": "2e35f9f5",
   "metadata": {},
   "outputs": [
    {
     "data": {
      "text/plain": [
       "{'call': <GenericCall(value={'call_module': 'SubtensorModule', 'call_function': 'swap_stake', 'call_args': {'hotkey': '5E2LP6EnZ54m3wS8s1yPvD5c3xo71kQroBw7aUVK32TKeZ5u', 'origin_netuid': 121, 'destination_netuid': 0, 'alpha_amount': ‎1.000000000Ⲅ‎}})>,\n",
       " 'keypair': <Keypair (address=5DF1kZx7pnLZNQzV2h1iyNK26F1fQ1D2pcvXJspcqF9ACMRp)>}"
      ]
     },
     "execution_count": 45,
     "metadata": {},
     "output_type": "execute_result"
    }
   ],
   "source": [
    "ext = await swap_stake_ext(0,to_move,121)\n",
    "ext"
   ]
  },
  {
   "cell_type": "code",
   "execution_count": 46,
   "id": "b3636758",
   "metadata": {},
   "outputs": [
    {
     "data": {
      "text/plain": [
       "(True, '')"
      ]
     },
     "execution_count": 46,
     "metadata": {},
     "output_type": "execute_result"
    }
   ],
   "source": [
    "head = await subtensor.get_current_block()\n",
    "await submit_extrinsic(call, head)"
   ]
  }
 ],
 "metadata": {
  "kernelspec": {
   "display_name": ".venv (3.12.3)",
   "language": "python",
   "name": "python3"
  },
  "language_info": {
   "codemirror_mode": {
    "name": "ipython",
    "version": 3
   },
   "file_extension": ".py",
   "mimetype": "text/x-python",
   "name": "python",
   "nbconvert_exporter": "python",
   "pygments_lexer": "ipython3",
   "version": "3.12.3"
  }
 },
 "nbformat": 4,
 "nbformat_minor": 5
}
